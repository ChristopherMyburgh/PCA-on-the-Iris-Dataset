{
 "cells": [
  {
   "cell_type": "code",
   "execution_count": 93,
   "id": "2c2ef680",
   "metadata": {},
   "outputs": [],
   "source": [
    "# Import required Libraries\n",
    "\n",
    "import numpy as np\n",
    "import pandas as pd\n",
    "import seaborn as sns\n",
    "import matplotlib.pyplot as plt\n",
    "from mpl_toolkits.mplot3d import Axes3D\n",
    "\n",
    "from sklearn.preprocessing import StandardScaler\n",
    "from sklearn.decomposition import PCA"
   ]
  },
  {
   "cell_type": "code",
   "execution_count": 73,
   "id": "69cc72c8",
   "metadata": {},
   "outputs": [
    {
     "data": {
      "text/html": [
       "<div>\n",
       "<style scoped>\n",
       "    .dataframe tbody tr th:only-of-type {\n",
       "        vertical-align: middle;\n",
       "    }\n",
       "\n",
       "    .dataframe tbody tr th {\n",
       "        vertical-align: top;\n",
       "    }\n",
       "\n",
       "    .dataframe thead th {\n",
       "        text-align: right;\n",
       "    }\n",
       "</style>\n",
       "<table border=\"1\" class=\"dataframe\">\n",
       "  <thead>\n",
       "    <tr style=\"text-align: right;\">\n",
       "      <th></th>\n",
       "      <th>Id</th>\n",
       "      <th>SepalLengthCm</th>\n",
       "      <th>SepalWidthCm</th>\n",
       "      <th>PetalLengthCm</th>\n",
       "      <th>PetalWidthCm</th>\n",
       "    </tr>\n",
       "    <tr>\n",
       "      <th>Species</th>\n",
       "      <th></th>\n",
       "      <th></th>\n",
       "      <th></th>\n",
       "      <th></th>\n",
       "      <th></th>\n",
       "    </tr>\n",
       "  </thead>\n",
       "  <tbody>\n",
       "    <tr>\n",
       "      <th>Iris-setosa</th>\n",
       "      <td>1</td>\n",
       "      <td>5.1</td>\n",
       "      <td>3.5</td>\n",
       "      <td>1.4</td>\n",
       "      <td>0.2</td>\n",
       "    </tr>\n",
       "    <tr>\n",
       "      <th>Iris-setosa</th>\n",
       "      <td>2</td>\n",
       "      <td>4.9</td>\n",
       "      <td>3.0</td>\n",
       "      <td>1.4</td>\n",
       "      <td>0.2</td>\n",
       "    </tr>\n",
       "    <tr>\n",
       "      <th>Iris-setosa</th>\n",
       "      <td>3</td>\n",
       "      <td>4.7</td>\n",
       "      <td>3.2</td>\n",
       "      <td>1.3</td>\n",
       "      <td>0.2</td>\n",
       "    </tr>\n",
       "    <tr>\n",
       "      <th>Iris-setosa</th>\n",
       "      <td>4</td>\n",
       "      <td>4.6</td>\n",
       "      <td>3.1</td>\n",
       "      <td>1.5</td>\n",
       "      <td>0.2</td>\n",
       "    </tr>\n",
       "    <tr>\n",
       "      <th>Iris-setosa</th>\n",
       "      <td>5</td>\n",
       "      <td>5.0</td>\n",
       "      <td>3.6</td>\n",
       "      <td>1.4</td>\n",
       "      <td>0.2</td>\n",
       "    </tr>\n",
       "  </tbody>\n",
       "</table>\n",
       "</div>"
      ],
      "text/plain": [
       "             Id  SepalLengthCm  SepalWidthCm  PetalLengthCm  PetalWidthCm\n",
       "Species                                                                  \n",
       "Iris-setosa   1            5.1           3.5            1.4           0.2\n",
       "Iris-setosa   2            4.9           3.0            1.4           0.2\n",
       "Iris-setosa   3            4.7           3.2            1.3           0.2\n",
       "Iris-setosa   4            4.6           3.1            1.5           0.2\n",
       "Iris-setosa   5            5.0           3.6            1.4           0.2"
      ]
     },
     "execution_count": 73,
     "metadata": {},
     "output_type": "execute_result"
    }
   ],
   "source": [
    "# Load in the Iris data set\n",
    "\n",
    "df = pd.read_csv('Iris.csv')\n",
    "df = df.set_index('Species')\n",
    "df.head()"
   ]
  },
  {
   "cell_type": "code",
   "execution_count": 74,
   "id": "4d4e3142",
   "metadata": {},
   "outputs": [
    {
     "data": {
      "text/html": [
       "<div>\n",
       "<style scoped>\n",
       "    .dataframe tbody tr th:only-of-type {\n",
       "        vertical-align: middle;\n",
       "    }\n",
       "\n",
       "    .dataframe tbody tr th {\n",
       "        vertical-align: top;\n",
       "    }\n",
       "\n",
       "    .dataframe thead th {\n",
       "        text-align: right;\n",
       "    }\n",
       "</style>\n",
       "<table border=\"1\" class=\"dataframe\">\n",
       "  <thead>\n",
       "    <tr style=\"text-align: right;\">\n",
       "      <th></th>\n",
       "      <th>SepalLengthCm</th>\n",
       "      <th>SepalWidthCm</th>\n",
       "      <th>PetalLengthCm</th>\n",
       "      <th>PetalWidthCm</th>\n",
       "    </tr>\n",
       "    <tr>\n",
       "      <th>Species</th>\n",
       "      <th></th>\n",
       "      <th></th>\n",
       "      <th></th>\n",
       "      <th></th>\n",
       "    </tr>\n",
       "  </thead>\n",
       "  <tbody>\n",
       "    <tr>\n",
       "      <th>Iris-setosa</th>\n",
       "      <td>5.1</td>\n",
       "      <td>3.5</td>\n",
       "      <td>1.4</td>\n",
       "      <td>0.2</td>\n",
       "    </tr>\n",
       "    <tr>\n",
       "      <th>Iris-setosa</th>\n",
       "      <td>4.9</td>\n",
       "      <td>3.0</td>\n",
       "      <td>1.4</td>\n",
       "      <td>0.2</td>\n",
       "    </tr>\n",
       "    <tr>\n",
       "      <th>Iris-setosa</th>\n",
       "      <td>4.7</td>\n",
       "      <td>3.2</td>\n",
       "      <td>1.3</td>\n",
       "      <td>0.2</td>\n",
       "    </tr>\n",
       "    <tr>\n",
       "      <th>Iris-setosa</th>\n",
       "      <td>4.6</td>\n",
       "      <td>3.1</td>\n",
       "      <td>1.5</td>\n",
       "      <td>0.2</td>\n",
       "    </tr>\n",
       "    <tr>\n",
       "      <th>Iris-setosa</th>\n",
       "      <td>5.0</td>\n",
       "      <td>3.6</td>\n",
       "      <td>1.4</td>\n",
       "      <td>0.2</td>\n",
       "    </tr>\n",
       "  </tbody>\n",
       "</table>\n",
       "</div>"
      ],
      "text/plain": [
       "             SepalLengthCm  SepalWidthCm  PetalLengthCm  PetalWidthCm\n",
       "Species                                                              \n",
       "Iris-setosa            5.1           3.5            1.4           0.2\n",
       "Iris-setosa            4.9           3.0            1.4           0.2\n",
       "Iris-setosa            4.7           3.2            1.3           0.2\n",
       "Iris-setosa            4.6           3.1            1.5           0.2\n",
       "Iris-setosa            5.0           3.6            1.4           0.2"
      ]
     },
     "execution_count": 74,
     "metadata": {},
     "output_type": "execute_result"
    }
   ],
   "source": [
    "# Drop Id column\n",
    "df = df.drop(['Id'], axis=1)\n",
    "df.head()"
   ]
  },
  {
   "cell_type": "code",
   "execution_count": 75,
   "id": "890d4ab7",
   "metadata": {},
   "outputs": [
    {
     "data": {
      "image/png": "[encoded data removed]",
      "text/plain": [
       "<Figure size 576x432 with 2 Axes>"
      ]
     },
     "metadata": {
      "needs_background": "light"
     },
     "output_type": "display_data"
    }
   ],
   "source": [
    "# Create a Correlation Heatmap showing relationships of each Feature\n",
    "\n",
    "plt.figure(figsize=(8,6))\n",
    "iris_corr = df.corr()\n",
    "sns.heatmap(iris_corr, annot=True)\n",
    "plt.title('Correlation Heatmap of Iris Dataset')\n",
    "plt.show()"
   ]
  },
  {
   "cell_type": "markdown",
   "id": "33731f26",
   "metadata": {},
   "source": [
    "The Correlation Heatmap prodiuced above shows us how each feature effects one another. The left diagonal containg all 1 values can be ignored as this merely references itself. We see that Sepal width has a extremem negative correlation when referencing Petal Length and Petal Width. What is surprising is that Sepal Length has a strong positive correlation with Petal Width and Petal Length. Sepal Length and Sepal Width are shown to have a negative correlation with one another. This means that from our heatmap; most of the dependencies lie with Petal Length and Petal Width."
   ]
  },
  {
   "cell_type": "markdown",
   "id": "d1f631d2",
   "metadata": {},
   "source": [
    "### Applying PCA \n",
    "\n",
    "#### Standardize the dataset"
   ]
  },
  {
   "cell_type": "code",
   "execution_count": 76,
   "id": "15543cd2",
   "metadata": {},
   "outputs": [],
   "source": [
    "# Using the Standard scaler library to sclae all Predictor variables\n",
    "\n",
    "features = df[['SepalLengthCm', 'SepalWidthCm', 'PetalLengthCm', 'PetalWidthCm']]\n",
    "scaled_features = StandardScaler().fit_transform(features)"
   ]
  },
  {
   "cell_type": "code",
   "execution_count": 77,
   "id": "8c6fedef",
   "metadata": {},
   "outputs": [
    {
     "data": {
      "text/html": [
       "<div>\n",
       "<style scoped>\n",
       "    .dataframe tbody tr th:only-of-type {\n",
       "        vertical-align: middle;\n",
       "    }\n",
       "\n",
       "    .dataframe tbody tr th {\n",
       "        vertical-align: top;\n",
       "    }\n",
       "\n",
       "    .dataframe thead th {\n",
       "        text-align: right;\n",
       "    }\n",
       "</style>\n",
       "<table border=\"1\" class=\"dataframe\">\n",
       "  <thead>\n",
       "    <tr style=\"text-align: right;\">\n",
       "      <th></th>\n",
       "      <th>principal component 1</th>\n",
       "      <th>principal component 2</th>\n",
       "      <th>pricipal component 3</th>\n",
       "    </tr>\n",
       "    <tr>\n",
       "      <th>Species</th>\n",
       "      <th></th>\n",
       "      <th></th>\n",
       "      <th></th>\n",
       "    </tr>\n",
       "  </thead>\n",
       "  <tbody>\n",
       "    <tr>\n",
       "      <th>Iris-setosa</th>\n",
       "      <td>-2.684207</td>\n",
       "      <td>0.326607</td>\n",
       "      <td>-0.021512</td>\n",
       "    </tr>\n",
       "    <tr>\n",
       "      <th>Iris-setosa</th>\n",
       "      <td>-2.715391</td>\n",
       "      <td>-0.169557</td>\n",
       "      <td>-0.203521</td>\n",
       "    </tr>\n",
       "    <tr>\n",
       "      <th>Iris-setosa</th>\n",
       "      <td>-2.889820</td>\n",
       "      <td>-0.137346</td>\n",
       "      <td>0.024709</td>\n",
       "    </tr>\n",
       "    <tr>\n",
       "      <th>Iris-setosa</th>\n",
       "      <td>-2.746437</td>\n",
       "      <td>-0.311124</td>\n",
       "      <td>0.037672</td>\n",
       "    </tr>\n",
       "    <tr>\n",
       "      <th>Iris-setosa</th>\n",
       "      <td>-2.728593</td>\n",
       "      <td>0.333925</td>\n",
       "      <td>0.096230</td>\n",
       "    </tr>\n",
       "  </tbody>\n",
       "</table>\n",
       "</div>"
      ],
      "text/plain": [
       "             principal component 1  principal component 2  \\\n",
       "Species                                                     \n",
       "Iris-setosa              -2.684207               0.326607   \n",
       "Iris-setosa              -2.715391              -0.169557   \n",
       "Iris-setosa              -2.889820              -0.137346   \n",
       "Iris-setosa              -2.746437              -0.311124   \n",
       "Iris-setosa              -2.728593               0.333925   \n",
       "\n",
       "             pricipal component 3  \n",
       "Species                            \n",
       "Iris-setosa             -0.021512  \n",
       "Iris-setosa             -0.203521  \n",
       "Iris-setosa              0.024709  \n",
       "Iris-setosa              0.037672  \n",
       "Iris-setosa              0.096230  "
      ]
     },
     "execution_count": 77,
     "metadata": {},
     "output_type": "execute_result"
    }
   ],
   "source": [
    "# Choosing the number of components to be selected\n",
    "\n",
    "nr_comps = 3\n",
    "pca = PCA(n_components=nr_comps)\n",
    "\n",
    "# obtain components\n",
    "feature_components = pca.fit_transform(features)\n",
    "\n",
    "# transform the components into a pandas data frame\n",
    "pca_df = pd.DataFrame(feature_components, index=df.index, columns=['principal component 1','principal component 2',\n",
    "                                                                  'pricipal component 3'])\n",
    "\n",
    "# View new dataframe\n",
    "pca_df.head()"
   ]
  },
  {
   "cell_type": "code",
   "execution_count": 78,
   "id": "ee0b2f4d",
   "metadata": {},
   "outputs": [
    {
     "data": {
      "image/png": "[encoded data removed]",
      "text/plain": [
       "<Figure size 576x432 with 2 Axes>"
      ]
     },
     "metadata": {
      "needs_background": "light"
     },
     "output_type": "display_data"
    }
   ],
   "source": [
    "# Create a Correlation Heatmap showing PCA components\n",
    "\n",
    "plt.figure(figsize=(8,6))\n",
    "PCA_corr = pca_df.corr()\n",
    "sns.heatmap(PCA_corr, annot=True)\n",
    "plt.title('Correlation Heatmap of Iris Dataset')\n",
    "plt.show()"
   ]
  },
  {
   "cell_type": "markdown",
   "id": "5981623d",
   "metadata": {},
   "source": [
    "Representing The correlation betweeen Original Variables and that of the PCA components"
   ]
  },
  {
   "cell_type": "code",
   "execution_count": 79,
   "id": "dd6107e9",
   "metadata": {},
   "outputs": [
    {
     "data": {
      "image/png": "[encoded data removed]",
      "text/plain": [
       "<Figure size 432x288 with 2 Axes>"
      ]
     },
     "metadata": {
      "needs_background": "light"
     },
     "output_type": "display_data"
    }
   ],
   "source": [
    "# Create a correlation heatmap between principle components and Original Variables\n",
    "\n",
    "components = pd.DataFrame(pca.components_, columns=df.columns, index=range(1, nr_comps+1)).transpose()\n",
    "sns.heatmap(components,linewidth=1)\n",
    "plt.show()"
   ]
  },
  {
   "cell_type": "code",
   "execution_count": 96,
   "id": "2e6edd10",
   "metadata": {},
   "outputs": [
    {
     "name": "stdout",
     "output_type": "stream",
     "text": [
      "Covariance of Feature components:\n",
      " [[ 0.68569351 -0.03926846  1.27368233  0.5169038 ]\n",
      " [-0.03926846  0.18800403 -0.32171275 -0.11798121]\n",
      " [ 1.27368233 -0.32171275  3.11317942  1.29638747]\n",
      " [ 0.5169038  -0.11798121  1.29638747  0.58241432]]\n",
      "\n",
      "PCA feature variance explanation:\n",
      " [0.92461621 0.05301557 0.01718514]\n",
      "\n",
      "Sum of the PCA variance:\n",
      " 0.9948169145498101\n"
     ]
    }
   ],
   "source": [
    "# Display the PCA covariance\n",
    "\n",
    "print('Covariance of Feature components:\\n',pca.get_covariance())\n",
    "print('')\n",
    "\n",
    "# Produce an explanation for each variance\n",
    "\n",
    "explained_variance=pca.explained_variance_ratio_\n",
    "print('PCA feature variance explanation:\\n',explained_variance)\n",
    "print('')\n",
    "# Sum the PCA variance\n",
    "\n",
    "print('Sum of the PCA variance:\\n',pca.explained_variance_ratio_.sum())"
   ]
  },
  {
   "cell_type": "markdown",
   "id": "eaef82b8",
   "metadata": {},
   "source": [
    "What the above tells us, is that 99.48% of the total information is contained in the 3 principle componmments."
   ]
  },
  {
   "cell_type": "code",
   "execution_count": 81,
   "id": "4813ccc9",
   "metadata": {},
   "outputs": [
    {
     "data": {
      "image/png": "[encoded data removed]",
      "text/plain": [
       "<Figure size 432x288 with 1 Axes>"
      ]
     },
     "metadata": {
      "needs_background": "light"
     },
     "output_type": "display_data"
    }
   ],
   "source": [
    "# PLotting a graph representing Variance of Principle Components\n",
    "\n",
    "plt.figure(figsize=(6, 4))\n",
    "plt.bar(range(3), explained_variance, alpha=0.5, align='center',label='individual explained variance')\n",
    "plt.ylabel('Explained variance ratio')\n",
    "plt.xlabel('Principal components')\n",
    "plt.legend(loc='best')\n",
    "plt.tight_layout()"
   ]
  },
  {
   "cell_type": "markdown",
   "id": "d3a100dc",
   "metadata": {},
   "source": [
    "What we have found from the above analysis, is that using PCA, we can reduce the number of features we have, while still retaining the explanatory variances possible for modelling. Using 3 Principle Components, we find that 99.48% of the required explanatory variances were contained. What this means effectively, is that we only lost 0.52% of accuracy by using 3 components instead of all the features. We can analyze this further by inspecting how each individual component attributes itself to the model. Even if we only use 1 Feature, that 1 feature attributes 92.46% of the total variance needed to create the model. That is impressive considering we discarded 75% of our data for a 8% reduction is accuracy."
   ]
  },
  {
   "cell_type": "markdown",
   "id": "e263c375",
   "metadata": {},
   "source": [
    "#### Representing Classification of data with Different PCA components"
   ]
  },
  {
   "cell_type": "code",
   "execution_count": 86,
   "id": "1ec874fd",
   "metadata": {},
   "outputs": [
    {
     "data": {
      "image/png": "[encoded data removed]",
      "text/plain": [
       "<Figure size 576x576 with 1 Axes>"
      ]
     },
     "metadata": {
      "needs_background": "light"
     },
     "output_type": "display_data"
    }
   ],
   "source": [
    "# Create a plot that only contains 2 Principal components \n",
    "\n",
    "fig = plt.figure(figsize = (8,8))\n",
    "ax = fig.add_subplot(1,1,1) \n",
    "ax.set_xlabel('Principal Component 1', fontsize = 15)\n",
    "ax.set_ylabel('Principal Component 2', fontsize = 15)\n",
    "ax.set_title('2 Component PCA', fontsize = 20)\n",
    "\n",
    "\n",
    "targets = ['Iris-setosa', 'Iris-versicolor', 'Iris-virginica']\n",
    "colors = ['r', 'g', 'b']\n",
    "for target, color in zip(targets,colors):\n",
    "    indicesToKeep = target\n",
    "    ax.scatter(pca_df.loc[indicesToKeep, 'principal component 1']\n",
    "               , pca_df.loc[indicesToKeep, 'principal component 2']\n",
    "               , c = color\n",
    "               , s = 50)\n",
    "ax.legend(targets)\n",
    "ax.grid()"
   ]
  },
  {
   "cell_type": "code",
   "execution_count": 99,
   "id": "15bd5152",
   "metadata": {},
   "outputs": [
    {
     "data": {
      "text/html": [
       "<div>\n",
       "<style scoped>\n",
       "    .dataframe tbody tr th:only-of-type {\n",
       "        vertical-align: middle;\n",
       "    }\n",
       "\n",
       "    .dataframe tbody tr th {\n",
       "        vertical-align: top;\n",
       "    }\n",
       "\n",
       "    .dataframe thead th {\n",
       "        text-align: right;\n",
       "    }\n",
       "</style>\n",
       "<table border=\"1\" class=\"dataframe\">\n",
       "  <thead>\n",
       "    <tr style=\"text-align: right;\">\n",
       "      <th></th>\n",
       "      <th>principal component 1</th>\n",
       "    </tr>\n",
       "    <tr>\n",
       "      <th>Species</th>\n",
       "      <th></th>\n",
       "    </tr>\n",
       "  </thead>\n",
       "  <tbody>\n",
       "    <tr>\n",
       "      <th>Iris-setosa</th>\n",
       "      <td>-2.264542</td>\n",
       "    </tr>\n",
       "    <tr>\n",
       "      <th>Iris-setosa</th>\n",
       "      <td>-2.086426</td>\n",
       "    </tr>\n",
       "    <tr>\n",
       "      <th>Iris-setosa</th>\n",
       "      <td>-2.367950</td>\n",
       "    </tr>\n",
       "    <tr>\n",
       "      <th>Iris-setosa</th>\n",
       "      <td>-2.304197</td>\n",
       "    </tr>\n",
       "    <tr>\n",
       "      <th>Iris-setosa</th>\n",
       "      <td>-2.388777</td>\n",
       "    </tr>\n",
       "  </tbody>\n",
       "</table>\n",
       "</div>"
      ],
      "text/plain": [
       "             principal component 1\n",
       "Species                           \n",
       "Iris-setosa              -2.264542\n",
       "Iris-setosa              -2.086426\n",
       "Iris-setosa              -2.367950\n",
       "Iris-setosa              -2.304197\n",
       "Iris-setosa              -2.388777"
      ]
     },
     "execution_count": 99,
     "metadata": {},
     "output_type": "execute_result"
    }
   ],
   "source": [
    "# Create a plot that only shows 1 principle component\n",
    "\n",
    "pca_one = PCA(n_components = 1)\n",
    "solo_PrincipalComponent = pca_one.fit_transform(scaled_features)\n",
    "\n",
    "pca_df = pd.DataFrame(solo_PrincipalComponent, index=df.index, columns=['principal component 1'])\n",
    "\n",
    "# View new dataframe\n",
    "pca_df.head()"
   ]
  },
  {
   "cell_type": "code",
   "execution_count": 102,
   "id": "36c2f423",
   "metadata": {},
   "outputs": [
    {
     "data": {
      "image/png": "[encoded data removed]",
      "text/plain": [
       "<Figure size 576x576 with 1 Axes>"
      ]
     },
     "metadata": {
      "needs_background": "light"
     },
     "output_type": "display_data"
    }
   ],
   "source": [
    "fig = plt.figure(figsize = (8,8))\n",
    "ax = fig.add_subplot(1,1,1) \n",
    "ax.set_xlabel('Principal Component 1', fontsize = 15)\n",
    "ax.set_title('1 Component PCA', fontsize = 20)\n",
    "\n",
    "targets = ['Iris-setosa', 'Iris-versicolor', 'Iris-virginica']\n",
    "colors = ['r', 'g', 'b']\n",
    "for target, color in zip(targets,colors):\n",
    "    indicesToKeep = target\n",
    "    ax.scatter(pca_df.loc[indicesToKeep, 'principal component 1'], pca_df.loc[indicesToKeep, 'principal component 1'],\n",
    "               c = color, s = 50)\n",
    "ax.legend(targets)\n",
    "ax.grid()\n"
   ]
  },
  {
   "cell_type": "markdown",
   "id": "c662f255",
   "metadata": {},
   "source": [
    "Even with just 1 component, We are able to represent how the model classifies our response variable. \n",
    "\n",
    "PCA is therefore extremely useful when dealing with large datasets that contain numerous predictor features. It aids in feature reduction while still maintaining relevent accuracy for model prediction. "
   ]
  }
 ],
 "metadata": {
  "kernelspec": {
   "display_name": "Python 3 (ipykernel)",
   "language": "python",
   "name": "python3"
  },
  "language_info": {
   "codemirror_mode": {
    "name": "ipython",
    "version": 3
   },
   "file_extension": ".py",
   "mimetype": "text/x-python",
   "name": "python",
   "nbconvert_exporter": "python",
   "pygments_lexer": "ipython3",
   "version": "3.9.7"
  }
 },
 "nbformat": 4,
 "nbformat_minor": 5
}
